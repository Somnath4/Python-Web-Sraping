{
 "cells": [
  {
   "attachments": {},
   "cell_type": "markdown",
   "metadata": {},
   "source": [
    "## Worldwide Box Office collection, 2010 to 2022"
   ]
  },
  {
   "attachments": {},
   "cell_type": "markdown",
   "metadata": {},
   "source": [
    "TODO  (Intro): \n",
    "- Web scraping is the process of extracting data from websites. Web scraping can directly access  Hypertext Transfer Protocol (HTTP).\n",
    "- Box Office Mojo is an American website that tracks box-office revenue in a systematic, algorithmic way and the problem statement\n",
    "- I used Python programming language and requests, Beautiful Soup and pandas libraries for this web scarping"
   ]
  },
  {
   "attachments": {},
   "cell_type": "markdown",
   "metadata": {},
   "source": [
    "Here are the steps we'll follow:\n",
    "\n",
    "* We're going to scrape [Box Office Mojo](https://www.boxofficemojo.com/year/world/?ref_=bo_nb_cso_tab)\n",
    "* We'll get a list of box office collection. For each collection, we'll get movie title,  worldwide collection, domestic collection, percentage of domestic collection, foreign collection, percentage of foreign collection and release year.\n",
    "* We'll get 200 box office collection list for each box office collection\n",
    "* We'll create a CSV file for each box office collection and we'll merge them into one CSV file\n"
   ]
  },
  {
   "cell_type": "code",
   "execution_count": 1,
   "metadata": {},
   "outputs": [],
   "source": [
    "import requests\n",
    "from bs4 import BeautifulSoup as bs\n",
    "import pandas as pd\n",
    "import os"
   ]
  },
  {
   "attachments": {},
   "cell_type": "markdown",
   "metadata": {},
   "source": [
    "## Scrape box office collections from the Box Office Mojo\n",
    "\n",
    "Explain how you'll do it\n",
    "\n",
    "- Use requests to download the page\n",
    "- Use BS4 to parse and extract information from the page\n",
    "- Convert into a pandas data frame "
   ]
  },
  {
   "attachments": {},
   "cell_type": "markdown",
   "metadata": {},
   "source": [
    "This function is used to get the HTML content of the Box Office Mojo website using the requests library. The HTML content is then parsed using the Beautiful Soup library and returned as a Beautiful Soup object."
   ]
  },
  {
   "cell_type": "code",
   "execution_count": 2,
   "metadata": {},
   "outputs": [],
   "source": [
    "def get_box_office_mojo():\n",
    "    # Download the page\n",
    "    url = 'https://www.boxofficemojo.com/year/world/?ref_=bo_nb_cso_tab'\n",
    "    response = requests.get(url)\n",
    "    # Check response\n",
    "    if response.status_code != 200:\n",
    "        raise Exception('Failed to load page {}'.format(url))\n",
    "    # Parse using Beautiful Soup\n",
    "    doc = bs(response.text, 'html.parser')\n",
    "    return doc"
   ]
  },
  {
   "cell_type": "code",
   "execution_count": 3,
   "metadata": {},
   "outputs": [],
   "source": [
    "# Storing the function in a variable\n",
    "doc = get_box_office_mojo()"
   ]
  },
  {
   "cell_type": "code",
   "execution_count": 16,
   "metadata": {},
   "outputs": [],
   "source": [
    "title_class = 'a-text-left mojo-field-type-release_group'\n",
    "title = doc.find_all('td', {'class': title_class})"
   ]
  },
  {
   "cell_type": "code",
   "execution_count": 15,
   "metadata": {},
   "outputs": [
    {
     "data": {
      "text/plain": [
       "<td class=\"a-text-left mojo-field-type-release_group\"><a class=\"a-link-normal\" href=\"/releasegroup/gr817189381/?ref_=bo_ydw_table_1\">M3GAN</a></td>"
      ]
     },
     "execution_count": 15,
     "metadata": {},
     "output_type": "execute_result"
    }
   ],
   "source": [
    "title[0]"
   ]
  },
  {
   "cell_type": "markdown",
   "metadata": {},
   "source": []
  },
  {
   "attachments": {},
   "cell_type": "markdown",
   "metadata": {},
   "source": [
    "### Getting release date information from movie title link"
   ]
  },
  {
   "attachments": {},
   "cell_type": "markdown",
   "metadata": {},
   "source": [
    "To get year and year urls, we can use `option` tags with `value` which contain links\n",
    "\n",
    "![](https://imgur.com/6BdMZEk.png)"
   ]
  },
  {
   "attachments": {},
   "cell_type": "markdown",
   "metadata": {},
   "source": [
    "The base URL for the Box Office Mojo website to a variable called \"base_url\". This variable can be used later to access different pages on the website by appending the specific path of the page to the base URL. For example, we could use base_url + '/year/world/2022/' to access the page for worldwide box office collections in 2022."
   ]
  },
  {
   "cell_type": "code",
   "execution_count": 26,
   "metadata": {},
   "outputs": [],
   "source": [
    "# Box Office Mojo url\n",
    "base_url = 'https://www.boxofficemojo.com'"
   ]
  },
  {
   "attachments": {},
   "cell_type": "markdown",
   "metadata": {},
   "source": [
    "The function `get_year_url` takes in no input parameters and returns a list of strings containing the URLs for each year from 2010 to 2022. The function first uses Beautiful Soup to find all `option` tags in the HTML document and stores them in a list called year. Then, it creates an empty list called 'year_url' and uses a for loop to iterate through the elements in year. For each element, it appends the value of the value attribute of the element (which is a URL) to the year_url list. Finally, the function returns a slice of the 'year_url' list that includes only the URLs for the years 2010 to 2022."
   ]
  },
  {
   "cell_type": "code",
   "execution_count": 23,
   "metadata": {},
   "outputs": [],
   "source": [
    "def get_year_url():\n",
    "    # Find the option tags\n",
    "    year = doc.find_all('option')\n",
    "    # Create a loop, which add all the year urls in the empty list `year_url`\n",
    "    year_url = []\n",
    "    for i in year:\n",
    "        year_url.append(base_url + i['value'])\n",
    "    year_urls = year_url[1:13]\n",
    "    return year_urls"
   ]
  },
  {
   "attachments": {},
   "cell_type": "markdown",
   "metadata": {},
   "source": [
    "The list will contain URLs for the most recent 12 years of data, with the first five URLs being shown."
   ]
  },
  {
   "cell_type": "code",
   "execution_count": 24,
   "metadata": {},
   "outputs": [
    {
     "data": {
      "text/plain": [
       "['https://www.boxofficemojo.com/year/world/2022/',\n",
       " 'https://www.boxofficemojo.com/year/world/2021/',\n",
       " 'https://www.boxofficemojo.com/year/world/2020/',\n",
       " 'https://www.boxofficemojo.com/year/world/2019/',\n",
       " 'https://www.boxofficemojo.com/year/world/2018/']"
      ]
     },
     "execution_count": 24,
     "metadata": {},
     "output_type": "execute_result"
    }
   ],
   "source": [
    "# Create a variable\n",
    "year_urls = get_year_url()\n",
    "# Show the values of the urls\n",
    "year_urls[:5]"
   ]
  },
  {
   "attachments": {},
   "cell_type": "markdown",
   "metadata": {},
   "source": [
    "Similarly, we defined a function for years. We can use the text to get the year from the `option` tags. It does the same as previous function, however, it loops through these tags and extracts the text from each tag, which represents a year. the list is returned and includes the years from 2022 to 2010. "
   ]
  },
  {
   "cell_type": "code",
   "execution_count": 13,
   "metadata": {},
   "outputs": [],
   "source": [
    "def get_year():\n",
    "    # find all the option tags \n",
    "    year = doc.find_all('option')\n",
    "    # Create a loop, which add all th years in the empty list `years`\n",
    "    years = []\n",
    "    for i in year:\n",
    "        years.append(i.text)\n",
    "    # This will give years from 2022 to 2010\n",
    "    years = years[1:13]\n",
    "    return years"
   ]
  },
  {
   "attachments": {},
   "cell_type": "markdown",
   "metadata": {},
   "source": [
    "This code will return a list of the years from 2022 to 2010, using the `get_year()`function. The list is contain years, with the first five years being shown."
   ]
  },
  {
   "cell_type": "code",
   "execution_count": 14,
   "metadata": {},
   "outputs": [
    {
     "data": {
      "text/plain": [
       "['2022', '2021', '2020', '2019', '2018']"
      ]
     },
     "execution_count": 14,
     "metadata": {},
     "output_type": "execute_result"
    }
   ],
   "source": [
    "# Show the values of years\n",
    "get_year()[:5]"
   ]
  },
  {
   "cell_type": "markdown",
   "metadata": {},
   "source": []
  },
  {
   "attachments": {},
   "cell_type": "markdown",
   "metadata": {},
   "source": [
    "### Getting information out of each link"
   ]
  },
  {
   "cell_type": "code",
   "execution_count": 158,
   "metadata": {},
   "outputs": [],
   "source": [
    "box_office_url = year_url[3]"
   ]
  },
  {
   "cell_type": "code",
   "execution_count": 159,
   "metadata": {},
   "outputs": [
    {
     "data": {
      "text/plain": [
       "'https://www.boxofficemojo.com/year/world/2019/'"
      ]
     },
     "execution_count": 159,
     "metadata": {},
     "output_type": "execute_result"
    }
   ],
   "source": [
    "box_office_url"
   ]
  },
  {
   "cell_type": "code",
   "execution_count": 213,
   "metadata": {},
   "outputs": [],
   "source": [
    "response = requests.get(year_url[3])"
   ]
  },
  {
   "cell_type": "code",
   "execution_count": 214,
   "metadata": {},
   "outputs": [
    {
     "data": {
      "text/plain": [
       "200"
      ]
     },
     "execution_count": 214,
     "metadata": {},
     "output_type": "execute_result"
    }
   ],
   "source": [
    "response.status_code"
   ]
  },
  {
   "cell_type": "code",
   "execution_count": 215,
   "metadata": {},
   "outputs": [
    {
     "data": {
      "text/plain": [
       "233671"
      ]
     },
     "execution_count": 215,
     "metadata": {},
     "output_type": "execute_result"
    }
   ],
   "source": [
    "len(response.text)"
   ]
  },
  {
   "cell_type": "code",
   "execution_count": 216,
   "metadata": {},
   "outputs": [],
   "source": [
    "box_doc = bs(response.text, 'html.parser')"
   ]
  },
  {
   "cell_type": "code",
   "execution_count": 217,
   "metadata": {},
   "outputs": [
    {
     "data": {
      "text/plain": [
       "201"
      ]
     },
     "execution_count": 217,
     "metadata": {},
     "output_type": "execute_result"
    }
   ],
   "source": [
    "box_office = box_doc.find_all('tr')\n",
    "len(box_office)"
   ]
  },
  {
   "cell_type": "code",
   "execution_count": 218,
   "metadata": {},
   "outputs": [],
   "source": [
    "box_office = box_office[1:201]"
   ]
  },
  {
   "cell_type": "code",
   "execution_count": 219,
   "metadata": {},
   "outputs": [
    {
     "data": {
      "text/plain": [
       "<tr><td class=\"a-text-right mojo-header-column mojo-truncate mojo-field-type-rank mojo-sort-column\">1</td><td class=\"a-text-left mojo-field-type-release_group\"><a class=\"a-link-normal\" href=\"/releasegroup/gr3511898629/?ref_=bo_ydw_table_1\">Avengers: Endgame</a></td><td class=\"a-text-right mojo-field-type-money\">$2,797,501,328</td><td class=\"a-text-right mojo-field-type-money\">$858,373,000</td><td class=\"a-text-right mojo-field-type-percent\">30.7%</td><td class=\"a-text-right mojo-field-type-money\">$1,939,128,328</td><td class=\"a-text-right mojo-field-type-percent\">69.3%</td></tr>"
      ]
     },
     "execution_count": 219,
     "metadata": {},
     "output_type": "execute_result"
    }
   ],
   "source": [
    "box_office[0]"
   ]
  },
  {
   "cell_type": "code",
   "execution_count": 150,
   "metadata": {},
   "outputs": [],
   "source": [
    "td_tags = box_office[0].find_all('td')"
   ]
  },
  {
   "cell_type": "code",
   "execution_count": 151,
   "metadata": {},
   "outputs": [
    {
     "data": {
      "text/plain": [
       "'1'"
      ]
     },
     "execution_count": 151,
     "metadata": {},
     "output_type": "execute_result"
    }
   ],
   "source": [
    "td_tags[0].text"
   ]
  },
  {
   "cell_type": "code",
   "execution_count": 152,
   "metadata": {},
   "outputs": [
    {
     "data": {
      "text/plain": [
       "'Toy Story 3'"
      ]
     },
     "execution_count": 152,
     "metadata": {},
     "output_type": "execute_result"
    }
   ],
   "source": [
    "td_tags[1].text"
   ]
  },
  {
   "cell_type": "code",
   "execution_count": 153,
   "metadata": {},
   "outputs": [
    {
     "data": {
      "text/plain": [
       "'$1,066,969,703'"
      ]
     },
     "execution_count": 153,
     "metadata": {},
     "output_type": "execute_result"
    }
   ],
   "source": [
    "td_tags[2].text"
   ]
  },
  {
   "cell_type": "code",
   "execution_count": 126,
   "metadata": {},
   "outputs": [
    {
     "data": {
      "text/plain": [
       "'$718,732,821'"
      ]
     },
     "execution_count": 126,
     "metadata": {},
     "output_type": "execute_result"
    }
   ],
   "source": [
    "td_tags[3].text"
   ]
  },
  {
   "cell_type": "code",
   "execution_count": 127,
   "metadata": {},
   "outputs": [
    {
     "data": {
      "text/plain": [
       "'48.3%'"
      ]
     },
     "execution_count": 127,
     "metadata": {},
     "output_type": "execute_result"
    }
   ],
   "source": [
    "td_tags[4].text"
   ]
  },
  {
   "cell_type": "code",
   "execution_count": 128,
   "metadata": {},
   "outputs": [
    {
     "data": {
      "text/plain": [
       "'$770,000,000'"
      ]
     },
     "execution_count": 128,
     "metadata": {},
     "output_type": "execute_result"
    }
   ],
   "source": [
    "td_tags[5].text"
   ]
  },
  {
   "cell_type": "code",
   "execution_count": 129,
   "metadata": {},
   "outputs": [
    {
     "data": {
      "text/plain": [
       "'51.7%'"
      ]
     },
     "execution_count": 129,
     "metadata": {},
     "output_type": "execute_result"
    }
   ],
   "source": [
    "td_tags[6].text"
   ]
  },
  {
   "cell_type": "code",
   "execution_count": 31,
   "metadata": {},
   "outputs": [],
   "source": [
    "def get_box_office_info(tr_tags):\n",
    "    td_tags = tr_tags.find_all('td')\n",
    "    Title = td_tags[1].text\n",
    "    Worldwide = td_tags[2].text\n",
    "    Domestic = td_tags[3].text\n",
    "    Domestic_percent = td_tags[4].text\n",
    "    Foreign = td_tags[5].text\n",
    "    Foreign_percent = td_tags[6].text\n",
    "    return Title, Worldwide, Domestic, Domestic_percent, Foreign, Foreign_percent"
   ]
  },
  {
   "cell_type": "code",
   "execution_count": 32,
   "metadata": {},
   "outputs": [
    {
     "data": {
      "text/plain": [
       "('Top Gun: Maverick',\n",
       " '$1,488,732,821',\n",
       " '$718,732,821',\n",
       " '48.3%',\n",
       " '$770,000,000',\n",
       " '51.7%')"
      ]
     },
     "execution_count": 32,
     "metadata": {},
     "output_type": "execute_result"
    }
   ],
   "source": [
    "get_box_office_info(box_office[0])"
   ]
  },
  {
   "cell_type": "code",
   "execution_count": 33,
   "metadata": {},
   "outputs": [],
   "source": [
    "box_office_dict = {\n",
    "    'Title': [],\n",
    "    'Worldwide': [],\n",
    "    'Domestic': [],\n",
    "    'Domestic_percent': [],\n",
    "    'Foreign': [],\n",
    "    'Foreign_percent': []\n",
    "}\n",
    "\n",
    "\n",
    "for i in range(len(box_office)):\n",
    "    info = get_box_office_info(box_office[i])\n",
    "    box_office_dict['Title'].append(info[0])\n",
    "    box_office_dict['Worldwide'].append(info[1])\n",
    "    box_office_dict['Domestic'].append(info[2])\n",
    "    box_office_dict['Domestic_percent'].append(info[3])\n",
    "    box_office_dict['Foreign'].append(info[4])\n",
    "    box_office_dict['Foreign_percent'].append(info[5])"
   ]
  },
  {
   "attachments": {},
   "cell_type": "markdown",
   "metadata": {},
   "source": [
    "## Get box office collections from 2022 to 2010\n",
    "\n",
    "This function is used to download and parse a webpage containing box office data for a particular year. It takes in a URL for a year's box office data as an input and returns a Beautiful Soup object of the webpage's HTML content. the function uses the bs4 library's BeautifulSoup function to parse the HTML content of the webpage and return the resulting object."
   ]
  },
  {
   "cell_type": "code",
   "execution_count": 18,
   "metadata": {},
   "outputs": [],
   "source": [
    "def get_box_office_page(box_year_urls):\n",
    "    # Download the box office pages\n",
    "    response = requests.get(box_year_urls)\n",
    "    # Check successful response\n",
    "    if response.status_code != 200:\n",
    "        raise Exception('Failed to load page {}'.format(box_year_urls))\n",
    "    # Parse using Beautiful Soup\n",
    "    box_doc = bs(response.text, 'html.parser')\n",
    "    return box_doc"
   ]
  },
  {
   "attachments": {},
   "cell_type": "markdown",
   "metadata": {},
   "source": [
    "`tr` tags containing the table of the box office page. We're going to find all the `td` tags which represents a table cell containing box office information of a movie\n",
    "\n",
    "![](https://imgur.com/qqDGAMs.png)"
   ]
  },
  {
   "attachments": {},
   "cell_type": "markdown",
   "metadata": {},
   "source": [
    "This function, `get_box_office_info()`, takes a Beautiful Soup object representing a row of data in a table as an argument. It then searches for all `td` tags within that row and retrieves the text content of each of these `td `tags. This text is then stored in variables named Title, Worldwide, Domestic, Domestic_percent, Foreign, and Foreign_percent. Finally, these variables are returned as a tuple.\n",
    "\n",
    "The purpose of this function is to extract specific data points from a table row in the HTML of a webpage. In this case, the data points correspond to information about movies listed on the Box Office Mojo website, such as the title of the movie, its worldwide box office earnings, and its foreign box office earnings."
   ]
  },
  {
   "cell_type": "code",
   "execution_count": 17,
   "metadata": {},
   "outputs": [],
   "source": [
    "def get_box_office_info(tr_tags):\n",
    "    # Find all the td tags in the tr tags\n",
    "    td_tags = tr_tags.find_all('td')\n",
    "    # Create variable which contains the box office information\n",
    "    Title = td_tags[1].text\n",
    "    Worldwide = td_tags[2].text\n",
    "    Domestic = td_tags[3].text\n",
    "    Domestic_percent = td_tags[4].text\n",
    "    Foreign = td_tags[5].text\n",
    "    Foreign_percent = td_tags[6].text\n",
    "    return Title, Worldwide, Domestic, Domestic_percent, Foreign, Foreign_percent"
   ]
  },
  {
   "cell_type": "code",
   "execution_count": 80,
   "metadata": {},
   "outputs": [],
   "source": [
    "def get_release_year(release_year):\n",
    "    year_doc = get_box_office_page(release_year)\n",
    "    selection_class = 'mojo-gutter'\n",
    "    release_year = year_doc.find('h1', {'class': selection_class})\n",
    "    release_years= []\n",
    "    for i in release_year:\n",
    "        release_years.append(i.text[:4])\n",
    "    return release_years"
   ]
  },
  {
   "cell_type": "code",
   "execution_count": 81,
   "metadata": {},
   "outputs": [
    {
     "data": {
      "text/plain": [
       "['2020']"
      ]
     },
     "execution_count": 81,
     "metadata": {},
     "output_type": "execute_result"
    }
   ],
   "source": [
    "year = get_release_year(year_urls[2])\n",
    "year"
   ]
  },
  {
   "attachments": {},
   "cell_type": "markdown",
   "metadata": {},
   "source": [
    "This function gets the box office information from the given box_doc which is a Beautiful Soup object containing the HTML page of a particular year's box office collections. It first extracts all the `tr` tags from the page and assigns them to the variable \"box_office\". It then removes the first `tr` tag, which is the header row, by slicing the list from index 1 to 201. This leaves us with a list of tr tags containing the box office information for 200 movies for a particular year.\n",
    "\n",
    "Next, the function creates an empty dictionary with the keys being the column names of the final data frame and the values being empty lists. It then loops through the list of `tr` tags and for each tag, it calls the `get_box_office_info()` function which returns a tuple containing the box office information for a particular movie. The function then appends this information to the corresponding lists in the dictionary.\n",
    "\n",
    "Finally, the function converts the dictionary into a pandas data frame."
   ]
  },
  {
   "cell_type": "code",
   "execution_count": 19,
   "metadata": {},
   "outputs": [],
   "source": [
    "def get_box_office(box_doc):\n",
    "    # Find all the tr tags\n",
    "    box_office = box_doc.find_all('tr')\n",
    "    box_office = box_office[1:201]\n",
    "\n",
    "    # Create an empty dictionary\n",
    "    box_office_dict = {\n",
    "    'Title': [],\n",
    "    'Worldwide': [],\n",
    "    'Domestic': [],\n",
    "    'Domestic_percent': [],\n",
    "    'Foreign': [],\n",
    "    'Foreign_percent': []\n",
    "}\n",
    "    # create a loop, which add all the value into the empty dictionary\n",
    "    for i in range(len(box_office)):\n",
    "        info = get_box_office_info(box_office[i])\n",
    "        box_office_dict['Title'].append(info[0])\n",
    "        box_office_dict['Worldwide'].append(info[1])\n",
    "        box_office_dict['Domestic'].append(info[2])\n",
    "        box_office_dict['Domestic_percent'].append(info[3])\n",
    "        box_office_dict['Foreign'].append(info[4])\n",
    "        box_office_dict['Foreign_percent'].append(info[5])\n",
    "\n",
    "    # Convert into a pandas data frame\n",
    "    return pd.DataFrame(box_office_dict)"
   ]
  },
  {
   "attachments": {},
   "cell_type": "markdown",
   "metadata": {},
   "source": [
    "The function `get_box_office()` takes in a Beautiful Soup object of a box office page and returns a pandas data frame containing the box office information from the page. "
   ]
  },
  {
   "cell_type": "code",
   "execution_count": 27,
   "metadata": {},
   "outputs": [
    {
     "data": {
      "text/html": [
       "<div>\n",
       "<style scoped>\n",
       "    .dataframe tbody tr th:only-of-type {\n",
       "        vertical-align: middle;\n",
       "    }\n",
       "\n",
       "    .dataframe tbody tr th {\n",
       "        vertical-align: top;\n",
       "    }\n",
       "\n",
       "    .dataframe thead th {\n",
       "        text-align: right;\n",
       "    }\n",
       "</style>\n",
       "<table border=\"1\" class=\"dataframe\">\n",
       "  <thead>\n",
       "    <tr style=\"text-align: right;\">\n",
       "      <th></th>\n",
       "      <th>Title</th>\n",
       "      <th>Worldwide</th>\n",
       "      <th>Domestic</th>\n",
       "      <th>Domestic_percent</th>\n",
       "      <th>Foreign</th>\n",
       "      <th>Foreign_percent</th>\n",
       "    </tr>\n",
       "  </thead>\n",
       "  <tbody>\n",
       "    <tr>\n",
       "      <th>0</th>\n",
       "      <td>Spider-Man: No Way Home</td>\n",
       "      <td>$1,906,693,477</td>\n",
       "      <td>$804,793,477</td>\n",
       "      <td>42.2%</td>\n",
       "      <td>$1,101,900,000</td>\n",
       "      <td>57.8%</td>\n",
       "    </tr>\n",
       "    <tr>\n",
       "      <th>1</th>\n",
       "      <td>The Battle at Lake Changjin</td>\n",
       "      <td>$902,548,476</td>\n",
       "      <td>$342,411</td>\n",
       "      <td>&lt;0.1%</td>\n",
       "      <td>$902,206,065</td>\n",
       "      <td>100%</td>\n",
       "    </tr>\n",
       "    <tr>\n",
       "      <th>2</th>\n",
       "      <td>Hi, Mom</td>\n",
       "      <td>$822,009,764</td>\n",
       "      <td>-</td>\n",
       "      <td>-</td>\n",
       "      <td>$822,009,764</td>\n",
       "      <td>100%</td>\n",
       "    </tr>\n",
       "    <tr>\n",
       "      <th>3</th>\n",
       "      <td>No Time to Die</td>\n",
       "      <td>$774,153,007</td>\n",
       "      <td>$160,891,007</td>\n",
       "      <td>20.8%</td>\n",
       "      <td>$613,262,000</td>\n",
       "      <td>79.2%</td>\n",
       "    </tr>\n",
       "    <tr>\n",
       "      <th>4</th>\n",
       "      <td>F9: The Fast Saga</td>\n",
       "      <td>$726,229,501</td>\n",
       "      <td>$173,005,945</td>\n",
       "      <td>23.8%</td>\n",
       "      <td>$553,223,556</td>\n",
       "      <td>76.2%</td>\n",
       "    </tr>\n",
       "    <tr>\n",
       "      <th>...</th>\n",
       "      <td>...</td>\n",
       "      <td>...</td>\n",
       "      <td>...</td>\n",
       "      <td>...</td>\n",
       "      <td>...</td>\n",
       "      <td>...</td>\n",
       "    </tr>\n",
       "    <tr>\n",
       "      <th>195</th>\n",
       "      <td>Pushpa: The Rise - Part 1</td>\n",
       "      <td>$7,592,374</td>\n",
       "      <td>$1,320,000</td>\n",
       "      <td>17.4%</td>\n",
       "      <td>$6,272,374</td>\n",
       "      <td>82.6%</td>\n",
       "    </tr>\n",
       "    <tr>\n",
       "      <th>196</th>\n",
       "      <td>The Mauritanian</td>\n",
       "      <td>$7,527,030</td>\n",
       "      <td>$836,536</td>\n",
       "      <td>11.1%</td>\n",
       "      <td>$6,690,494</td>\n",
       "      <td>88.9%</td>\n",
       "    </tr>\n",
       "    <tr>\n",
       "      <th>197</th>\n",
       "      <td>The Ice Road</td>\n",
       "      <td>$7,502,846</td>\n",
       "      <td>-</td>\n",
       "      <td>-</td>\n",
       "      <td>$7,502,846</td>\n",
       "      <td>100%</td>\n",
       "    </tr>\n",
       "    <tr>\n",
       "      <th>198</th>\n",
       "      <td>Judas and the Black Messiah</td>\n",
       "      <td>$7,428,769</td>\n",
       "      <td>$5,478,009</td>\n",
       "      <td>73.7%</td>\n",
       "      <td>$1,950,760</td>\n",
       "      <td>26.3%</td>\n",
       "    </tr>\n",
       "    <tr>\n",
       "      <th>199</th>\n",
       "      <td>Love Letter 2021 Re-release</td>\n",
       "      <td>$7,400,000</td>\n",
       "      <td>-</td>\n",
       "      <td>-</td>\n",
       "      <td>$7,400,000</td>\n",
       "      <td>100%</td>\n",
       "    </tr>\n",
       "  </tbody>\n",
       "</table>\n",
       "<p>200 rows × 6 columns</p>\n",
       "</div>"
      ],
      "text/plain": [
       "                           Title       Worldwide      Domestic  \\\n",
       "0        Spider-Man: No Way Home  $1,906,693,477  $804,793,477   \n",
       "1    The Battle at Lake Changjin    $902,548,476      $342,411   \n",
       "2                        Hi, Mom    $822,009,764             -   \n",
       "3                 No Time to Die    $774,153,007  $160,891,007   \n",
       "4              F9: The Fast Saga    $726,229,501  $173,005,945   \n",
       "..                           ...             ...           ...   \n",
       "195    Pushpa: The Rise - Part 1      $7,592,374    $1,320,000   \n",
       "196              The Mauritanian      $7,527,030      $836,536   \n",
       "197                 The Ice Road      $7,502,846             -   \n",
       "198  Judas and the Black Messiah      $7,428,769    $5,478,009   \n",
       "199  Love Letter 2021 Re-release      $7,400,000             -   \n",
       "\n",
       "    Domestic_percent         Foreign Foreign_percent  \n",
       "0              42.2%  $1,101,900,000           57.8%  \n",
       "1              <0.1%    $902,206,065            100%  \n",
       "2                  -    $822,009,764            100%  \n",
       "3              20.8%    $613,262,000           79.2%  \n",
       "4              23.8%    $553,223,556           76.2%  \n",
       "..               ...             ...             ...  \n",
       "195            17.4%      $6,272,374           82.6%  \n",
       "196            11.1%      $6,690,494           88.9%  \n",
       "197                -      $7,502,846            100%  \n",
       "198            73.7%      $1,950,760           26.3%  \n",
       "199                -      $7,400,000            100%  \n",
       "\n",
       "[200 rows x 6 columns]"
      ]
     },
     "execution_count": 27,
     "metadata": {},
     "output_type": "execute_result"
    }
   ],
   "source": [
    "box_office_page = get_box_office_page(year_urls[1])\n",
    "get_box_office(box_office_page)"
   ]
  },
  {
   "attachments": {},
   "cell_type": "markdown",
   "metadata": {},
   "source": [
    "This function is used to scrape the box office information from the Box Office Mojo website. It then calls the `get_year` and `get_year_url` functions to obtain lists of years and year URLs, respectively. It stores these lists in a dictionary with keys 'year' and 'year_urls', and converts the dictionary into a Pandas DataFrame."
   ]
  },
  {
   "cell_type": "code",
   "execution_count": 28,
   "metadata": {},
   "outputs": [],
   "source": [
    "def scrape_box_office():\n",
    "    url = 'https://www.boxofficemojo.com/year/world/?ref_=bo_nb_cso_tab'\n",
    "    response = requests.get(url)\n",
    "    if response.status_code != 200:\n",
    "        raise Exception('Failed to load page {}'.format(url))\n",
    "    doc = bs(response.text, 'html.parser')\n",
    "\n",
    "    year_urls = {\n",
    "        'year' : get_year(),\n",
    "        'year_urls' : get_year_url()\n",
    "    }\n",
    "    return pd.DataFrame(year_urls)"
   ]
  },
  {
   "cell_type": "code",
   "execution_count": 29,
   "metadata": {},
   "outputs": [
    {
     "data": {
      "text/html": [
       "<div>\n",
       "<style scoped>\n",
       "    .dataframe tbody tr th:only-of-type {\n",
       "        vertical-align: middle;\n",
       "    }\n",
       "\n",
       "    .dataframe tbody tr th {\n",
       "        vertical-align: top;\n",
       "    }\n",
       "\n",
       "    .dataframe thead th {\n",
       "        text-align: right;\n",
       "    }\n",
       "</style>\n",
       "<table border=\"1\" class=\"dataframe\">\n",
       "  <thead>\n",
       "    <tr style=\"text-align: right;\">\n",
       "      <th></th>\n",
       "      <th>year</th>\n",
       "      <th>year_urls</th>\n",
       "    </tr>\n",
       "  </thead>\n",
       "  <tbody>\n",
       "    <tr>\n",
       "      <th>0</th>\n",
       "      <td>2022</td>\n",
       "      <td>https://www.boxofficemojo.com/year/world/2022/</td>\n",
       "    </tr>\n",
       "    <tr>\n",
       "      <th>1</th>\n",
       "      <td>2021</td>\n",
       "      <td>https://www.boxofficemojo.com/year/world/2021/</td>\n",
       "    </tr>\n",
       "    <tr>\n",
       "      <th>2</th>\n",
       "      <td>2020</td>\n",
       "      <td>https://www.boxofficemojo.com/year/world/2020/</td>\n",
       "    </tr>\n",
       "    <tr>\n",
       "      <th>3</th>\n",
       "      <td>2019</td>\n",
       "      <td>https://www.boxofficemojo.com/year/world/2019/</td>\n",
       "    </tr>\n",
       "    <tr>\n",
       "      <th>4</th>\n",
       "      <td>2018</td>\n",
       "      <td>https://www.boxofficemojo.com/year/world/2018/</td>\n",
       "    </tr>\n",
       "  </tbody>\n",
       "</table>\n",
       "</div>"
      ],
      "text/plain": [
       "   year                                       year_urls\n",
       "0  2022  https://www.boxofficemojo.com/year/world/2022/\n",
       "1  2021  https://www.boxofficemojo.com/year/world/2021/\n",
       "2  2020  https://www.boxofficemojo.com/year/world/2020/\n",
       "3  2019  https://www.boxofficemojo.com/year/world/2019/\n",
       "4  2018  https://www.boxofficemojo.com/year/world/2018/"
      ]
     },
     "execution_count": 29,
     "metadata": {},
     "output_type": "execute_result"
    }
   ],
   "source": [
    "# Show the data frame\n",
    "scrape_box_office().head()"
   ]
  },
  {
   "attachments": {},
   "cell_type": "markdown",
   "metadata": {},
   "source": [
    "We defined a function which scrape information form the Box Office Mojo for a specific year and save result data to a CSV file\n",
    "\n",
    "- year_url: The URL of the page on the Box Office Mojo website for the specific year that we want to scrape\n",
    "- path: The file path where we want to save the resulting data"
   ]
  },
  {
   "cell_type": "code",
   "execution_count": 33,
   "metadata": {},
   "outputs": [],
   "source": [
    "def scrape_info(year_url, path):\n",
    "    # Check if the path already exist\n",
    "    if os.path.exists(path):\n",
    "        print(\"The file {} already exists. Skipping...\".format(path))\n",
    "        return\n",
    "    # Get all the information from a specific page\n",
    "    box_office = get_box_office(get_box_office_page(year_url))\n",
    "    box_office.to_csv(path,index = None)"
   ]
  },
  {
   "attachments": {},
   "cell_type": "markdown",
   "metadata": {},
   "source": [
    "## Putting all together\n",
    "\n",
    "We defined function to scrape box office collection data from the Box Office Mojo website for a given list of years. The function first calls the `scrape_box_office` function to get the list of years and their corresponding URLs. It then iterates through each year and URL, and calls the `scrape_info` function to scrape the box office collection data for that year. The scraped data is saved to a CSV file in the \"data\" folder."
   ]
  },
  {
   "cell_type": "code",
   "execution_count": 41,
   "metadata": {},
   "outputs": [],
   "source": [
    "def scrape_box_office_collections():\n",
    "    box_office_collection = scrape_box_office()\n",
    "\n",
    "    for index, i in box_office_collection.iterrows():\n",
    "        print('Scrapping box office collections \"{}\" ...'.format(i['year']))\n",
    "        scrape_info(i['year_urls'], 'data/box office collection {}.csv'.format(i['year']))\n"
   ]
  },
  {
   "cell_type": "code",
   "execution_count": 61,
   "metadata": {},
   "outputs": [
    {
     "name": "stdout",
     "output_type": "stream",
     "text": [
      "Scrapping box office collections \"2022\"\n",
      "Scrapping box office collections \"2021\"\n",
      "Scrapping box office collections \"2020\"\n",
      "Scrapping box office collections \"2019\"\n",
      "Scrapping box office collections \"2018\"\n",
      "Scrapping box office collections \"2017\"\n",
      "Scrapping box office collections \"2016\"\n",
      "Scrapping box office collections \"2015\"\n",
      "Scrapping box office collections \"2014\"\n",
      "Scrapping box office collections \"2013\"\n",
      "Scrapping box office collections \"2012\"\n",
      "Scrapping box office collections \"2011\"\n",
      "Scrapping box office collections \"2010\"\n"
     ]
    }
   ],
   "source": [
    "scrape_box_office_collections()"
   ]
  },
  {
   "attachments": {},
   "cell_type": "markdown",
   "metadata": {},
   "source": [
    "## Merging all Data Frames into one "
   ]
  },
  {
   "cell_type": "code",
   "execution_count": 212,
   "metadata": {},
   "outputs": [],
   "source": [
    "df1 = pd.read_csv('./data/box office collection 2022.csv')\n",
    "df2 = pd.read_csv('./data/box office collection 2021.csv')\n",
    "df3 = pd.read_csv('./data/box office collection 2020.csv')\n",
    "df4 = pd.read_csv('./data/box office collection 2019.csv')\n",
    "df5 = pd.read_csv('./data/box office collection 2018.csv')\n",
    "df6 = pd.read_csv('./data/box office collection 2017.csv')\n",
    "df7 = pd.read_csv('./data/box office collection 2016.csv')\n",
    "df8 = pd.read_csv('./data/box office collection 2015.csv')\n",
    "df9 = pd.read_csv('./data/box office collection 2014.csv')\n",
    "df10 = pd.read_csv('./data/box office collection 2013.csv')\n",
    "df11 = pd.read_csv('./data/box office collection 2012.csv')\n",
    "df12 = pd.read_csv('./data/box office collection 2011.csv')\n",
    "df13 = pd.read_csv('./data/box office collection 2010.csv')"
   ]
  },
  {
   "cell_type": "code",
   "execution_count": 213,
   "metadata": {},
   "outputs": [],
   "source": [
    "df_1 = pd.merge(df1, df2, how= 'outer')\n",
    "df_2 = df_1.merge(df3, how = 'outer')"
   ]
  },
  {
   "cell_type": "code",
   "execution_count": 176,
   "metadata": {},
   "outputs": [],
   "source": [
    "df_2.to_csv('data/box office.csv', index = None)"
   ]
  },
  {
   "cell_type": "code",
   "execution_count": null,
   "metadata": {},
   "outputs": [],
   "source": []
  },
  {
   "cell_type": "code",
   "execution_count": null,
   "metadata": {},
   "outputs": [],
   "source": []
  }
 ],
 "metadata": {
  "kernelspec": {
   "display_name": "Python 3",
   "language": "python",
   "name": "python3"
  },
  "language_info": {
   "codemirror_mode": {
    "name": "ipython",
    "version": 3
   },
   "file_extension": ".py",
   "mimetype": "text/x-python",
   "name": "python",
   "nbconvert_exporter": "python",
   "pygments_lexer": "ipython3",
   "version": "3.10.6"
  },
  "orig_nbformat": 4,
  "vscode": {
   "interpreter": {
    "hash": "b710760ed842513339cd1ddbcb12b6a8ad282423f0a8c8314a0df19bab7cc452"
   }
  }
 },
 "nbformat": 4,
 "nbformat_minor": 2
}
